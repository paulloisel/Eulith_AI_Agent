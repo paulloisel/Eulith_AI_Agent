{
 "cells": [
  {
   "cell_type": "code",
   "execution_count": null,
   "metadata": {},
   "outputs": [],
   "source": [
    "import json\n",
    "import os\n",
    "ROOT_DIR = '/Users/paul/Desktop/Eulith_AI_Agent'"
   ]
  },
  {
   "cell_type": "code",
   "execution_count": 4,
   "metadata": {},
   "outputs": [],
   "source": [
    "## 1.Paste the content from a py file in the py_to_jsonl file\n",
    "## 2.Run this notebook\n",
    "## 3.A jsonline file names converted_py.jsonl is created. It hold 1 string with the jsonline expression of the input text\n",
    "\n",
    "# Open your text file and read the content\n",
    "with open(os.path.join(ROOT_DIR, 'completion_assistant/completion_annotations_format','general_steps.txt'), 'r') as f:\n",
    "    data = f.read()\n",
    "\n",
    "# Now, data is a single string with newline characters preserved.\n",
    "# Let's convert it into a dictionary so we can save it as JSON\n",
    "data_dict = {'content': data}\n",
    "\n",
    "# Now, let's save it as a JSONLines file\n",
    "with open(os.path.join(ROOT_DIR, 'completion_assistant/completion_annotations_format','general_steps.jsonl'), 'w') as f:\n",
    "    f.write(json.dumps(data_dict) + '\\n')"
   ]
  }
 ],
 "metadata": {
  "kernelspec": {
   "display_name": "Python 3",
   "language": "python",
   "name": "python3"
  },
  "language_info": {
   "codemirror_mode": {
    "name": "ipython",
    "version": 3
   },
   "file_extension": ".py",
   "mimetype": "text/x-python",
   "name": "python",
   "nbconvert_exporter": "python",
   "pygments_lexer": "ipython3",
   "version": "3.11.3"
  },
  "orig_nbformat": 4
 },
 "nbformat": 4,
 "nbformat_minor": 2
}
