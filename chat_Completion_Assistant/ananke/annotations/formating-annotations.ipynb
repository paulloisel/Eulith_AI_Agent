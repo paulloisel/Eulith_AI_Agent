{
 "cells": [
  {
   "cell_type": "code",
   "execution_count": 4,
   "metadata": {},
   "outputs": [],
   "source": [
    "import json\n",
    "\n",
    "# Open your text file and read the content\n",
    "with open('/Users/paul/Desktop/Eulith_AI_Agent/chatBot/ananke/annotations/system_role_textfiles/general_steps.txt', 'r') as f:\n",
    "    data = f.read()\n",
    "\n",
    "# Now, data is a single string with newline characters preserved.\n",
    "# Let's convert it into a dictionary so we can save it as JSON\n",
    "data_dict = {'content': data}\n",
    "\n",
    "# Now, let's save it as a JSONLines file\n",
    "with open('/Users/paul/Desktop/Eulith_AI_Agent/chatBot/ananke/annotations/system_role_textfiles/general_steps.jsonl', 'w') as f:\n",
    "    f.write(json.dumps(data_dict) + '\\n')"
   ]
  }
 ],
 "metadata": {
  "kernelspec": {
   "display_name": "Python 3",
   "language": "python",
   "name": "python3"
  },
  "language_info": {
   "codemirror_mode": {
    "name": "ipython",
    "version": 3
   },
   "file_extension": ".py",
   "mimetype": "text/x-python",
   "name": "python",
   "nbconvert_exporter": "python",
   "pygments_lexer": "ipython3",
   "version": "3.11.3"
  },
  "orig_nbformat": 4
 },
 "nbformat": 4,
 "nbformat_minor": 2
}
