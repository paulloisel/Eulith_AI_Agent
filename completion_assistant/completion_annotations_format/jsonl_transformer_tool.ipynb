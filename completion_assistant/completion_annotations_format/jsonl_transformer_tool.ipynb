{
 "cells": [
  {
   "cell_type": "code",
   "execution_count": 13,
   "metadata": {},
   "outputs": [],
   "source": [
    "import json\n",
    "import os\n",
    "ROOT_DIR = '/Users/paul/Desktop/Eulith_AI_Agent'"
   ]
  },
  {
   "cell_type": "code",
   "execution_count": 14,
   "metadata": {},
   "outputs": [],
   "source": [
    "## 1.Paste the text from a txt file in the txt_to_jsonl file\n",
    "## 2.Run this notebook\n",
    "## 3.A jsonline file names converted_text.jsonl is created. It hold 1 string with the jsonline expression of the input text\n",
    "\n",
    "# Open your text file and read the content\n",
    "with open(os.path.join(ROOT_DIR, 'completion_assistant/completion_annotations_format','text_to_jsonl.txt'), 'r') as f:\n",
    "    data = f.read()\n",
    "\n",
    "# Now, let's save it as a JSONLines file\n",
    "with open(os.path.join(ROOT_DIR, 'completion_assistant/completion_annotations_format','converted_text.jsonl'), 'w') as f:\n",
    "    f.write(json.dumps(data))"
   ]
  },
  {
   "cell_type": "code",
   "execution_count": 15,
   "metadata": {},
   "outputs": [],
   "source": [
    "## 1.Paste the content from a py file in the py_to_jsonl file\n",
    "## 2.Run this notebook\n",
    "## 3.A jsonline file names converted_py.jsonl is created. It hold 1 string with the jsonline expression of the input text\n",
    "\n",
    "# Open your Python file and read the content\n",
    "with open(os.path.join(ROOT_DIR, 'completion_assistant/completion_annotations_format','py_to_jsonl.py'), 'r') as f:\n",
    "    data_from_py = f.read()\n",
    "\n",
    "# Now, let's save it as a JSONLines file\n",
    "with open(os.path.join(ROOT_DIR, 'completion_assistant/completion_annotations_format','converted_py.jsonl'), 'w') as f:\n",
    "   f.write(json.dumps(data_from_py))\n"
   ]
  },
  {
   "cell_type": "code",
   "execution_count": 18,
   "metadata": {},
   "outputs": [],
   "source": [
    "#When the excel file is ready thanks to the two previous cells\n",
    "##run this one to create the required json file with the correct format\n",
    "\n",
    "import pandas as pd\n",
    "\n",
    "# Read the Excel file into a DataFrame\n",
    "df = pd.read_excel(os.path.join(ROOT_DIR, 'completion_assistant/completion_annotations_format','pre_training.xlsx'))\n",
    "\n",
    "# Create a list to store the JSON objects\n",
    "json_list = []\n",
    "\n",
    "# Iterate over the DataFrame rows\n",
    "for index, row in df.iterrows():\n",
    "    # Extract the values from the first and second columns\n",
    "    prompt = str(row[0]) + '\\n\\n###\\n\\n'\n",
    "    completion = ' ' + str(row[1]) + ' UGKYdT'\n",
    "\n",
    "    # Create a dictionary for the JSON object\n",
    "    json_obj = {'prompt': prompt, 'completion': completion}\n",
    "\n",
    "    # Add the JSON object to the list\n",
    "    json_list.append(json_obj)\n",
    "\n",
    "# Write the list of JSON objects to a file\n",
    "with open(os.path.join(ROOT_DIR, 'completion_assistant/completion_annotations_format','completion_annotated_data.json'), 'w') as f:\n",
    "    json.dump(json_list, f, indent=4)"
   ]
  },
  {
   "cell_type": "code",
   "execution_count": null,
   "metadata": {},
   "outputs": [],
   "source": []
  }
 ],
 "metadata": {
  "kernelspec": {
   "display_name": "Python 3",
   "language": "python",
   "name": "python3"
  },
  "language_info": {
   "codemirror_mode": {
    "name": "ipython",
    "version": 3
   },
   "file_extension": ".py",
   "mimetype": "text/x-python",
   "name": "python",
   "nbconvert_exporter": "python",
   "pygments_lexer": "ipython3",
   "version": "3.11.3"
  },
  "orig_nbformat": 4
 },
 "nbformat": 4,
 "nbformat_minor": 2
}
