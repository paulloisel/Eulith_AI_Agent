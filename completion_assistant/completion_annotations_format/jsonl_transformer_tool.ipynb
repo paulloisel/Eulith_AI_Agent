{
 "cells": [
  {
   "cell_type": "code",
   "execution_count": 19,
   "metadata": {},
   "outputs": [],
   "source": [
    "## 1.Paste the text from a txt file in the txt_to_jsonl file\n",
    "## 2.Run this notebook\n",
    "## 3.A txt file names converted_text.jsonl is created. It hold 1 string with the jsonline expression of the input text\n",
    "\n",
    "import json\n",
    "import os\n",
    "ROOT_DIR = '/Users/paul/Desktop/Eulith_AI_Agent'\n",
    "\n",
    "# Open your text file and read the content\n",
    "with open(os.path.join(ROOT_DIR, 'completion_assistant/completion_annotations_format','text_to_jsonl.txt'), 'r') as f:\n",
    "    data = f.read()\n",
    "\n",
    "# Now, let's save it as a JSONLines file\n",
    "with open(os.path.join(ROOT_DIR, 'completion_assistant/completion_annotations_format','converted_text.jsonl'), 'w') as f:\n",
    "    f.write(json.dumps(data))"
   ]
  }
 ],
 "metadata": {
  "kernelspec": {
   "display_name": "Python 3",
   "language": "python",
   "name": "python3"
  },
  "language_info": {
   "codemirror_mode": {
    "name": "ipython",
    "version": 3
   },
   "file_extension": ".py",
   "mimetype": "text/x-python",
   "name": "python",
   "nbconvert_exporter": "python",
   "pygments_lexer": "ipython3",
   "version": "3.11.3"
  },
  "orig_nbformat": 4
 },
 "nbformat": 4,
 "nbformat_minor": 2
}
