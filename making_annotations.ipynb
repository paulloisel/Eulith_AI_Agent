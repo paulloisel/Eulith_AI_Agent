{
 "cells": [
  {
   "attachments": {},
   "cell_type": "markdown",
   "metadata": {},
   "source": [
    "1. importing the paraphrased prompts"
   ]
  },
  {
   "cell_type": "code",
   "execution_count": 8,
   "metadata": {},
   "outputs": [
    {
     "data": {
      "text/html": [
       "<div>\n",
       "<style scoped>\n",
       "    .dataframe tbody tr th:only-of-type {\n",
       "        vertical-align: middle;\n",
       "    }\n",
       "\n",
       "    .dataframe tbody tr th {\n",
       "        vertical-align: top;\n",
       "    }\n",
       "\n",
       "    .dataframe thead th {\n",
       "        text-align: right;\n",
       "    }\n",
       "</style>\n",
       "<table border=\"1\" class=\"dataframe\">\n",
       "  <thead>\n",
       "    <tr style=\"text-align: right;\">\n",
       "      <th></th>\n",
       "      <th>\"Set up a WETH and UNI swap\"</th>\n",
       "    </tr>\n",
       "  </thead>\n",
       "  <tbody>\n",
       "    <tr>\n",
       "      <th>0</th>\n",
       "      <td>\"Initiate a swap between WETH and UNI\"</td>\n",
       "    </tr>\n",
       "    <tr>\n",
       "      <th>1</th>\n",
       "      <td>\"Perform a WETH to UNI swap\"</td>\n",
       "    </tr>\n",
       "    <tr>\n",
       "      <th>2</th>\n",
       "      <td>\"Exchange WETH for UNI\"</td>\n",
       "    </tr>\n",
       "    <tr>\n",
       "      <th>3</th>\n",
       "      <td>\"Swap WETH with UNI\"</td>\n",
       "    </tr>\n",
       "    <tr>\n",
       "      <th>4</th>\n",
       "      <td>\"Conduct a WETH-UNI swap\"</td>\n",
       "    </tr>\n",
       "    <tr>\n",
       "      <th>...</th>\n",
       "      <td>...</td>\n",
       "    </tr>\n",
       "    <tr>\n",
       "      <th>417</th>\n",
       "      <td>\"Start a WETH and USDC swap without bells and ...</td>\n",
       "    </tr>\n",
       "    <tr>\n",
       "      <th>418</th>\n",
       "      <td>\"Prepare a WETH-USDC exchange without extras\"</td>\n",
       "    </tr>\n",
       "    <tr>\n",
       "      <th>419</th>\n",
       "      <td>\"Organize a bare-bones WETH and USDC swap\"</td>\n",
       "    </tr>\n",
       "    <tr>\n",
       "      <th>420</th>\n",
       "      <td>\"Implement a WETH-USDC trade with no frills\"</td>\n",
       "    </tr>\n",
       "    <tr>\n",
       "      <th>421</th>\n",
       "      <td>\"Establish a basic WETH and USDC exchange\"</td>\n",
       "    </tr>\n",
       "  </tbody>\n",
       "</table>\n",
       "<p>422 rows × 1 columns</p>\n",
       "</div>"
      ],
      "text/plain": [
       "                          \"Set up a WETH and UNI swap\"\n",
       "0               \"Initiate a swap between WETH and UNI\"\n",
       "1                         \"Perform a WETH to UNI swap\"\n",
       "2                              \"Exchange WETH for UNI\"\n",
       "3                                 \"Swap WETH with UNI\"\n",
       "4                            \"Conduct a WETH-UNI swap\"\n",
       "..                                                 ...\n",
       "417  \"Start a WETH and USDC swap without bells and ...\n",
       "418      \"Prepare a WETH-USDC exchange without extras\"\n",
       "419         \"Organize a bare-bones WETH and USDC swap\"\n",
       "420       \"Implement a WETH-USDC trade with no frills\"\n",
       "421         \"Establish a basic WETH and USDC exchange\"\n",
       "\n",
       "[422 rows x 1 columns]"
      ]
     },
     "execution_count": 8,
     "metadata": {},
     "output_type": "execute_result"
    }
   ],
   "source": [
    "import pandas as pd\n",
    "data = pd.DataFrame(pd.read_excel(\"/Users/paul/Desktop/Eulith_AI_Agent/annotation_sets/WETH_UNI_SWAP.xlsx\"))\n",
    "#The rows describe actions as the following:\n",
    "#0 to 99 : Swap WETH to UNI\n",
    "#100 to 208 : Swap UNI to WETH\n",
    "#209 to 317 : Swap USDC to WETH\n",
    "#318 to 421 : Swap WETH to USDC"
   ]
  },
  {
   "attachments": {},
   "cell_type": "markdown",
   "metadata": {},
   "source": [
    "2. cretaing general completions"
   ]
  },
  {
   "cell_type": "code",
   "execution_count": 12,
   "metadata": {},
   "outputs": [
    {
     "data": {
      "text/html": [
       "<div>\n",
       "<style scoped>\n",
       "    .dataframe tbody tr th:only-of-type {\n",
       "        vertical-align: middle;\n",
       "    }\n",
       "\n",
       "    .dataframe tbody tr th {\n",
       "        vertical-align: top;\n",
       "    }\n",
       "\n",
       "    .dataframe thead th {\n",
       "        text-align: right;\n",
       "    }\n",
       "</style>\n",
       "<table border=\"1\" class=\"dataframe\">\n",
       "  <thead>\n",
       "    <tr style=\"text-align: right;\">\n",
       "      <th></th>\n",
       "      <th>Operation</th>\n",
       "      <th>completion</th>\n",
       "    </tr>\n",
       "  </thead>\n",
       "  <tbody>\n",
       "    <tr>\n",
       "      <th>0</th>\n",
       "      <td>Swap_UNI_to_WETH</td>\n",
       "      <td>from eulith_web3.erc20\\n import TokenSymbol\\nf...</td>\n",
       "    </tr>\n",
       "    <tr>\n",
       "      <th>1</th>\n",
       "      <td>Swap_WETH_to_UNI</td>\n",
       "      <td>from eulith_web3.erc20\\n import TokenSymbol\\nf...</td>\n",
       "    </tr>\n",
       "    <tr>\n",
       "      <th>2</th>\n",
       "      <td>Swap_USDC_to_WETH</td>\n",
       "      <td>from eulith_web3.erc20\\n import TokenSymbol\\nf...</td>\n",
       "    </tr>\n",
       "    <tr>\n",
       "      <th>3</th>\n",
       "      <td>Swap_WETH_to_USDC</td>\n",
       "      <td>from eulith_web3.erc20\\n import TokenSymbol\\nf...</td>\n",
       "    </tr>\n",
       "  </tbody>\n",
       "</table>\n",
       "</div>"
      ],
      "text/plain": [
       "           Operation                                         completion\n",
       "0   Swap_UNI_to_WETH  from eulith_web3.erc20\\n import TokenSymbol\\nf...\n",
       "1   Swap_WETH_to_UNI  from eulith_web3.erc20\\n import TokenSymbol\\nf...\n",
       "2  Swap_USDC_to_WETH  from eulith_web3.erc20\\n import TokenSymbol\\nf...\n",
       "3  Swap_WETH_to_USDC  from eulith_web3.erc20\\n import TokenSymbol\\nf..."
      ]
     },
     "execution_count": 12,
     "metadata": {},
     "output_type": "execute_result"
    }
   ],
   "source": [
    "pd.DataFrame(\n",
    "    {'Operation': [\"Swap_UNI_to_WETH\",\n",
    "                   \"Swap_WETH_to_UNI\",\n",
    "                   \"Swap_USDC_to_WETH\",\n",
    "                   \"Swap_WETH_to_USDC\"\n",
    "                   ],\n",
    "     'completion': [\"from eulith_web3.erc20\\n import TokenSymbol\\nfrom eulith_web3.eulith_web3 import *\\nfrom eulith_web3.signing import construct_signing_middleware, LocalSigner\\n\\nif __name__ == '__main__':\\n    wallet = LocalSigner(\\\"...\\\") # YOUR PRIVATE KEY GOES HERE\\n    ew3 = EulithWeb3(eulith_url=\\\"...\\\", #URL ETHEREUM VIRTUAL MACHINE GOES HERE \\n                     eulith_refresh_token=\\\"...\\\", # YOUR REFRESH TOKEN GOES HERE\\n                     signing_middle_ware=construct_signing_middleware(wallet)) \\n   \\n   \\n    # these are python bindings around the whole ERC20 contract\\n    weth = ew3.eulith_get_erc_token(TokenSymbol.WETH)\\n    uni = ew3.eulith_get_erc_token(TokenSymbol.UNI)\\n    \\n    _sell_amount=0.001 # just an arbitrary small number for example\\n    \\n    # set the swap parameters\\n    swap_params = EulithSwapRequest(\\n        sell_token=weth,\\n        buy_token=uni,\\n        sell_amount=_sell_amount, # quantity; no weird decimals, 0.001 means 0.001 WETH\\n    )\\n    \\n    # get a swap quote\\n    # txs is an array of transactions that make up the swap\\n    quote, txs = ew3.eulith_swap_quote(swap_params)\\n    \\n    # convert eth to weth to prepare for the swap\\n    eth_to_weth_tx = weth.deposit_eth(_sell_amount)\\n    eth_to_weth_tx['from'] = wallet.address\\n    ew3.eth.send_transaction(eth_to_weth_tx)\\n    \\n    # if you decide you like the quote, send the swap transactions\\n    # this function is used to take an array of transactions and batch them atomically\\n    # does not get sent to the blockchain\\n    ew3.eulith_send_multi_transaction(txs)\",\n",
    "                    \"from eulith_web3.erc20\\n import TokenSymbol\\nfrom eulith_web3.eulith_web3 import *\\nfrom eulith_web3.signing import construct_signing_middleware, LocalSigner\\n\\nif __name__ == '__main__':\\n    wallet = LocalSigner(\\\"...\\\") # YOUR PRIVATE KEY GOES HERE\\n    ew3 = EulithWeb3(eulith_url=\\\"...\\\", #URL ETHEREUM VIRTUAL MACHINE GOES HERE \\n                     eulith_refresh_token=\\\"...\\\", # YOUR REFRESH TOKEN GOES HERE\\n                     signing_middle_ware=construct_signing_middleware(wallet)) \\n   \\n   \\n    # these are python bindings around the whole ERC20 contract\\n    uni = ew3.eulith_get_erc_token(TokenSymbol.UNI)\\n    weth = ew3.eulith_get_erc_token(TokenSymbol.WETH)\\n    \\n    _sell_amount=0.001 # just an arbitrary small number for example\\n    \\n    # set the swap parameters\\n    swap_params = EulithSwapRequest(\\n        sell_token=uni,\\n        buy_token=weth,\\n        sell_amount=_sell_amount, # quantity; no weird decimals, 0.001 means 0.001 WETH\\n    )\\n    \\n    # get a swap quote\\n    # txs is an array of transactions that make up the swap\\n    quote, txs = ew3.eulith_swap_quote(swap_params)\\n    \\n    # convert eth to weth to prepare for the swap\\n    eth_to_weth_tx = weth.deposit_eth(_sell_amount)\\n    eth_to_weth_tx['from'] = wallet.address\\n    ew3.eth.send_transaction(eth_to_weth_tx)\\n    \\n    # if you decide you like the quote, send the swap transactions\\n    # this function is used to take an array of transactions and batch them atomically\\n    # does not get sent to the blockchain\\n    ew3.eulith_send_multi_transaction(txs)\",\n",
    "                    \"from eulith_web3.erc20\\n import TokenSymbol\\nfrom eulith_web3.eulith_web3 import *\\nfrom eulith_web3.signing import construct_signing_middleware, LocalSigner\\n\\nif __name__ == '__main__':\\n    wallet = LocalSigner(\\\"...\\\") # YOUR PRIVATE KEY GOES HERE\\n    ew3 = EulithWeb3(eulith_url=\\\"...\\\", #URL ETHEREUM VIRTUAL MACHINE GOES HERE \\n                     eulith_refresh_token=\\\"...\\\", # YOUR REFRESH TOKEN GOES HERE\\n                     signing_middle_ware=construct_signing_middleware(wallet)) \\n   \\n   \\n    # these are python bindings around the whole ERC20 contract\\n    usdc = ew3.eulith_get_erc_token(TokenSymbol.USDC)\\n    weth = ew3.eulith_get_erc_token(TokenSymbol.WETH)\\n    \\n    _sell_amount=0.001 # just an arbitrary small number for example\\n    \\n    # set the swap parameters\\n    swap_params = EulithSwapRequest(\\n        sell_token=usdc,\\n        buy_token=weth,\\n        sell_amount=_sell_amount, # quantity; no weird decimals, 0.001 means 0.001 WETH\\n    )\\n    \\n    # get a swap quote\\n    # txs is an array of transactions that make up the swap\\n    quote, txs = ew3.eulith_swap_quote(swap_params)\\n    \\n    # convert eth to weth to prepare for the swap\\n    eth_to_weth_tx = weth.deposit_eth(_sell_amount)\\n    eth_to_weth_tx['from'] = wallet.address\\n    ew3.eth.send_transaction(eth_to_weth_tx)\\n    \\n    # if you decide you like the quote, send the swap transactions\\n    # this function is used to take an array of transactions and batch them atomically\\n    # does not get sent to the blockchain\\n    ew3.eulith_send_multi_transaction(txs)\",\n",
    "                    \"from eulith_web3.erc20\\n import TokenSymbol\\nfrom eulith_web3.eulith_web3 import *\\nfrom eulith_web3.signing import construct_signing_middleware, LocalSigner\\n\\nif __name__ == '__main__':\\n    wallet = LocalSigner(\\\"...\\\") # YOUR PRIVATE KEY GOES HERE\\n    ew3 = EulithWeb3(eulith_url=\\\"...\\\", #URL ETHEREUM VIRTUAL MACHINE GOES HERE \\n                     eulith_refresh_token=\\\"...\\\", # YOUR REFRESH TOKEN GOES HERE\\n                     signing_middle_ware=construct_signing_middleware(wallet)) \\n   \\n   \\n    # these are python bindings around the whole ERC20 contract\\n    weth = ew3.eulith_get_erc_token(TokenSymbol.WETH)\\n    usdc = ew3.eulith_get_erc_token(TokenSymbol.USDC)\\n    \\n    _sell_amount=0.001 # just an arbitrary small number for example\\n    \\n    # set the swap parameters\\n    swap_params = EulithSwapRequest(\\n        sell_token=weth,\\n        buy_token=usdc,\\n        sell_amount=_sell_amount, # quantity; no weird decimals, 0.001 means 0.001 WETH\\n    )\\n    \\n    # get a swap quote\\n    # txs is an array of transactions that make up the swap\\n    quote, txs = ew3.eulith_swap_quote(swap_params)\\n    \\n    # convert eth to weth to prepare for the swap\\n    eth_to_weth_tx = weth.deposit_eth(_sell_amount)\\n    eth_to_weth_tx['from'] = wallet.address\\n    ew3.eth.send_transaction(eth_to_weth_tx)\\n    \\n    # if you decide you like the quote, send the swap transactions\\n    # this function is used to take an array of transactions and batch them atomically\\n    # does not get sent to the blockchain\\n    ew3.eulith_send_multi_transaction(txs)\"\n",
    "                    ]\n",
    "\n",
    "     }\n",
    ")\n"
   ]
  },
  {
   "cell_type": "code",
   "execution_count": null,
   "metadata": {},
   "outputs": [],
   "source": []
  }
 ],
 "metadata": {
  "kernelspec": {
   "display_name": "Python 3",
   "language": "python",
   "name": "python3"
  },
  "language_info": {
   "codemirror_mode": {
    "name": "ipython",
    "version": 3
   },
   "file_extension": ".py",
   "mimetype": "text/x-python",
   "name": "python",
   "nbconvert_exporter": "python",
   "pygments_lexer": "ipython3",
   "version": "3.11.3"
  },
  "orig_nbformat": 4
 },
 "nbformat": 4,
 "nbformat_minor": 2
}
