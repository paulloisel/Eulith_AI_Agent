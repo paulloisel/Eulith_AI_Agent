{
 "cells": [
  {
   "attachments": {},
   "cell_type": "markdown",
   "metadata": {},
   "source": [
    "## Formatting of the input Dataset "
   ]
  },
  {
   "attachments": {},
   "cell_type": "markdown",
   "metadata": {},
   "source": [
    "1. import the paraphrased prompts, cleaning and formatting to prepare the conversion to json"
   ]
  },
  {
   "cell_type": "code",
   "execution_count": 6,
   "metadata": {},
   "outputs": [],
   "source": [
    "import pandas as pd\n",
    "import re\n",
    "import json\n",
    "\n",
    "pre_prompts = pd.DataFrame(pd.read_excel(\n",
    "    \"/Users/paul/Desktop/Eulith_AI_Agent/annotation_sets/pre_prompts_input.xlsx\"))\n",
    "\n",
    "# Create a dictionnary\n",
    "# keys : the different operations\n",
    "# values : the completion code for this operation\n",
    "# We add manually the end key for completion which is '######'\n",
    "operation_with_completion = dict(\n",
    "    {\"Swap_UNI_to_WETH\": \" from eulith_web3.erc20\\n import TokenSymbol\\nfrom eulith_web3.eulith_web3 import *\\nfrom eulith_web3.signing import construct_signing_middleware, LocalSigner\\n\\nif __name__ == '__main__':\\n    wallet = LocalSigner(\\\"...\\\") # YOUR PRIVATE KEY GOES HERE\\n    ew3 = EulithWeb3(eulith_url=\\\"...\\\", #URL ETHEREUM VIRTUAL MACHINE GOES HERE \\n                     eulith_refresh_token=\\\"...\\\", # YOUR REFRESH TOKEN GOES HERE\\n                     signing_middle_ware=construct_signing_middleware(wallet)) \\n   \\n   \\n    # these are python bindings around the whole ERC20 contract\\n    weth = ew3.eulith_get_erc_token(TokenSymbol.WETH)\\n    uni = ew3.eulith_get_erc_token(TokenSymbol.UNI)\\n    \\n    _sell_amount=0.001 # just an arbitrary small number for example\\n    \\n    # set the swap parameters\\n    swap_params = EulithSwapRequest(\\n        sell_token=weth,\\n        buy_token=uni,\\n        sell_amount=_sell_amount, # quantity; no weird decimals, 0.001 means 0.001 WETH\\n    )\\n    \\n    # get a swap quote\\n    # txs is an array of transactions that make up the swap\\n    quote, txs = ew3.eulith_swap_quote(swap_params)\\n    \\n    # convert eth to weth to prepare for the swap\\n    eth_to_weth_tx = weth.deposit_eth(_sell_amount)\\n    eth_to_weth_tx['from'] = wallet.address\\n    ew3.eth.send_transaction(eth_to_weth_tx)\\n    \\n    # if you decide you like the quote, send the swap transactions\\n    # this function is used to take an array of transactions and batch them atomically\\n    # does not get sent to the blockchain\\n    ew3.eulith_send_multi_transaction(txs) ######\",\n",
    "     \"Swap_WETH_to_UNI\": \" from eulith_web3.erc20\\n import TokenSymbol\\nfrom eulith_web3.eulith_web3 import *\\nfrom eulith_web3.signing import construct_signing_middleware, LocalSigner\\n\\nif __name__ == '__main__':\\n    wallet = LocalSigner(\\\"...\\\") # YOUR PRIVATE KEY GOES HERE\\n    ew3 = EulithWeb3(eulith_url=\\\"...\\\", #URL ETHEREUM VIRTUAL MACHINE GOES HERE \\n                     eulith_refresh_token=\\\"...\\\", # YOUR REFRESH TOKEN GOES HERE\\n                     signing_middle_ware=construct_signing_middleware(wallet)) \\n   \\n   \\n    # these are python bindings around the whole ERC20 contract\\n    uni = ew3.eulith_get_erc_token(TokenSymbol.UNI)\\n    weth = ew3.eulith_get_erc_token(TokenSymbol.WETH)\\n    \\n    _sell_amount=0.001 # just an arbitrary small number for example\\n    \\n    # set the swap parameters\\n    swap_params = EulithSwapRequest(\\n        sell_token=uni,\\n        buy_token=weth,\\n        sell_amount=_sell_amount, # quantity; no weird decimals, 0.001 means 0.001 WETH\\n    )\\n    \\n    # get a swap quote\\n    # txs is an array of transactions that make up the swap\\n    quote, txs = ew3.eulith_swap_quote(swap_params)\\n    \\n    # convert eth to weth to prepare for the swap\\n    eth_to_weth_tx = weth.deposit_eth(_sell_amount)\\n    eth_to_weth_tx['from'] = wallet.address\\n    ew3.eth.send_transaction(eth_to_weth_tx)\\n    \\n    # if you decide you like the quote, send the swap transactions\\n    # this function is used to take an array of transactions and batch them atomically\\n    # does not get sent to the blockchain\\n    ew3.eulith_send_multi_transaction(txs) ######\",\n",
    "     \"Swap_USDC_to_WETH\": \" from eulith_web3.erc20\\n import TokenSymbol\\nfrom eulith_web3.eulith_web3 import *\\nfrom eulith_web3.signing import construct_signing_middleware, LocalSigner\\n\\nif __name__ == '__main__':\\n    wallet = LocalSigner(\\\"...\\\") # YOUR PRIVATE KEY GOES HERE\\n    ew3 = EulithWeb3(eulith_url=\\\"...\\\", #URL ETHEREUM VIRTUAL MACHINE GOES HERE \\n                     eulith_refresh_token=\\\"...\\\", # YOUR REFRESH TOKEN GOES HERE\\n                     signing_middle_ware=construct_signing_middleware(wallet)) \\n   \\n   \\n    # these are python bindings around the whole ERC20 contract\\n    usdc = ew3.eulith_get_erc_token(TokenSymbol.USDC)\\n    weth = ew3.eulith_get_erc_token(TokenSymbol.WETH)\\n    \\n    _sell_amount=0.001 # just an arbitrary small number for example\\n    \\n    # set the swap parameters\\n    swap_params = EulithSwapRequest(\\n        sell_token=usdc,\\n        buy_token=weth,\\n        sell_amount=_sell_amount, # quantity; no weird decimals, 0.001 means 0.001 WETH\\n    )\\n    \\n    # get a swap quote\\n    # txs is an array of transactions that make up the swap\\n    quote, txs = ew3.eulith_swap_quote(swap_params)\\n    \\n    # convert eth to weth to prepare for the swap\\n    eth_to_weth_tx = weth.deposit_eth(_sell_amount)\\n    eth_to_weth_tx['from'] = wallet.address\\n    ew3.eth.send_transaction(eth_to_weth_tx)\\n    \\n    # if you decide you like the quote, send the swap transactions\\n    # this function is used to take an array of transactions and batch them atomically\\n    # does not get sent to the blockchain\\n    ew3.eulith_send_multi_transaction(txs) ######\",\n",
    "     \"Swap_WETH_to_USDC\": \" from eulith_web3.erc20\\n import TokenSymbol\\nfrom eulith_web3.eulith_web3 import *\\nfrom eulith_web3.signing import construct_signing_middleware, LocalSigner\\n\\nif __name__ == '__main__':\\n    wallet = LocalSigner(\\\"...\\\") # YOUR PRIVATE KEY GOES HERE\\n    ew3 = EulithWeb3(eulith_url=\\\"...\\\", #URL ETHEREUM VIRTUAL MACHINE GOES HERE \\n                     eulith_refresh_token=\\\"...\\\", # YOUR REFRESH TOKEN GOES HERE\\n                     signing_middle_ware=construct_signing_middleware(wallet)) \\n   \\n   \\n    # these are python bindings around the whole ERC20 contract\\n    weth = ew3.eulith_get_erc_token(TokenSymbol.WETH)\\n    usdc = ew3.eulith_get_erc_token(TokenSymbol.USDC)\\n    \\n    _sell_amount=0.001 # just an arbitrary small number for example\\n    \\n    # set the swap parameters\\n    swap_params = EulithSwapRequest(\\n        sell_token=weth,\\n        buy_token=usdc,\\n        sell_amount=_sell_amount, # quantity; no weird decimals, 0.001 means 0.001 WETH\\n    )\\n    \\n    # get a swap quote\\n    # txs is an array of transactions that make up the swap\\n    quote, txs = ew3.eulith_swap_quote(swap_params)\\n    \\n    # convert eth to weth to prepare for the swap\\n    eth_to_weth_tx = weth.deposit_eth(_sell_amount)\\n    eth_to_weth_tx['from'] = wallet.address\\n    ew3.eth.send_transaction(eth_to_weth_tx)\\n    \\n    # if you decide you like the quote, send the swap transactions\\n    # this function is used to take an array of transactions and batch them atomically\\n    # does not get sent to the blockchain\\n    ew3.eulith_send_multi_transaction(txs) ######\"\n",
    "     }\n",
    ")\n",
    "\n",
    "\n",
    "# We add the operation of every row in the dataframe\n",
    "# 0 to 100 : Swap WETH to UNI\n",
    "# 101 to 209 : Swap UNI to WETH\n",
    "# 210 to 318 : Swap USDC to WETH\n",
    "# 319 to 422 : Swap WETH to USDC\n",
    "pre_prompts['completion'] = None\n",
    "pre_prompts.iloc[0:101, 1] = operation_with_completion[\"Swap_WETH_to_UNI\"]\n",
    "pre_prompts.iloc[101:210, 1] = operation_with_completion[\"Swap_UNI_to_WETH\"]\n",
    "pre_prompts.iloc[210:319, 1] = operation_with_completion[\"Swap_USDC_to_WETH\"]\n",
    "pre_prompts.iloc[319:423, 1] = operation_with_completion[\"Swap_WETH_to_USDC\"]\n",
    "\n",
    "\n",
    "# set up the end of the prompt with \\n\\n###\\n\\n for tokenization\n",
    "\n",
    "\n",
    "def end_tokenization(pre_prompts):\n",
    "    \"\"\" \n",
    "    add \"\\\\n\\\\n###\\\\n\\\\n\" at the end of each prompt to enable good tokenization by the model \n",
    "    to respect OpenAI data formatting: https://platform.openai.com/docs/guides/fine-tuning/preparing-your-dataset \n",
    "    input : DataFrame of pre_prompts (prompts without end key) and completion (with end key)\n",
    "    output : DataFrame of annotated data prompts their completion (both with the end key)\n",
    "        \"\"\"\n",
    "\n",
    "    pre_prompts_list = pre_prompts['pre_prompt'].tolist()\n",
    "\n",
    "    prompts_list = []\n",
    "    for pre_prompt in pre_prompts_list:\n",
    "        output_str = pre_prompt + '\\n\\n###\\n\\n'\n",
    "        prompts_list.append(output_str)\n",
    "\n",
    "    pre_prompts['pre_prompt'] = prompts_list\n",
    "    prompts = pre_prompts.rename(columns={'pre_prompt': 'prompt'})\n",
    "    return prompts\n",
    "\n",
    "\n",
    "annotated_data = end_tokenization(pre_prompts)"
   ]
  },
  {
   "attachments": {},
   "cell_type": "markdown",
   "metadata": {},
   "source": [
    "2. Export the annotated_data json file"
   ]
  },
  {
   "cell_type": "code",
   "execution_count": 7,
   "metadata": {},
   "outputs": [],
   "source": [
    "json_string = json.dumps(json.loads(annotated_data.to_json(\n",
    "    orient='records')), ensure_ascii=False, indent=2)\n",
    "\n",
    "# Save the JSON string to a file\n",
    "with open(\"annotated_data.json\", \"w\") as f:\n",
    "    f.write(json_string)\n"
   ]
  },
  {
   "cell_type": "code",
   "execution_count": null,
   "metadata": {},
   "outputs": [],
   "source": []
  }
 ],
 "metadata": {
  "kernelspec": {
   "display_name": "Python 3",
   "language": "python",
   "name": "python3"
  },
  "language_info": {
   "codemirror_mode": {
    "name": "ipython",
    "version": 3
   },
   "file_extension": ".py",
   "mimetype": "text/x-python",
   "name": "python",
   "nbconvert_exporter": "python",
   "pygments_lexer": "ipython3",
   "version": "3.11.3"
  },
  "orig_nbformat": 4
 },
 "nbformat": 4,
 "nbformat_minor": 2
}
